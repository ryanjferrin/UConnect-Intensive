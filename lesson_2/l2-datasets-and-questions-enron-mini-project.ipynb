{
 "cells": [
  {
   "cell_type": "markdown",
   "metadata": {},
   "source": [
    "# Connect Intensive - Machine Learning Nanodegree\n",
    "# Lesson 2: Datasets and Questions- Enron Dataset Mini-Project\n",
    "\n",
    "## Objectives\n",
    "  - Work through the Datasets and Questions lesson from [ud-120](https://www.udacity.com/course/intro-to-machine-learning--ud120) within the Jupyter Notebook environment\n",
    "  - Introduce [the `pickle` module](https://docs.python.org/2/library/pickle.html) from the Python Standard Library for preserving data structures in Python\n",
    "  - Practice loading data from different directories\n",
    "  - Review stacking and unstacking in `pandas` to [reshape a `DataFrame`](http://pandas.pydata.org/pandas-docs/stable/reshaping.html)\n",
    "  - Explore and understand data sets, particularly those with many missing values\n",
    "  \n",
    "## Prerequisites\n",
    "  - You should be familiar with `pandas` (lesson 1 in the [UConnect-Intensive repo](https://github.com/ryanjferrin/UConnect-Intensive))"
   ]
  },
  {
   "cell_type": "markdown",
   "metadata": {},
   "source": [
    "## Background\n",
    "\n",
    "The Enron fraud is a big, messy and totally fascinating story about corporate malfeasance of nearly every imaginable type. The Enron email and financial datasets are also big, messy treasure troves of information, which become much more useful once you know your way around them a bit. The Udacity team has combined the email and finance data into a single dataset, which you’ll explore in this mini-project.\n",
    " \n",
    " \n",
    "In the online course [Katie Malone](http://blog.udacity.com/2016/04/women-in-machine-learning-katie-malone.html) discusses the Enron scandal, introduces the Enron email corpus and defines and identifies a person-of-interest (POI). \n",
    "\n",
    "**POI**: Indicted, settled without admitting guilt, testified in exchange for immunity.\n",
    "\n",
    "**Goal**: Use machine learning to answer the question:  \n",
    "\n",
    "**\"Can we identify patterns in the emails of people who were POIs?\"**\n",
    "\n",
    "\n"
   ]
  },
  {
   "cell_type": "markdown",
   "metadata": {},
   "source": [
    "## Getting Started\n",
    "The Datasets and Questions lesson in the Data Modeling section is based on Enron finance and email data. These datasets are located in the [**ud120-projects** repo](https://github.com/udacity/ud120-projects) on GitHub. Please clone the **ud120-projects** repo to your local machine. "
   ]
  },
  {
   "cell_type": "markdown",
   "metadata": {},
   "source": [
    "## Pickle\n",
    " [The `pickle` module](https://docs.python.org/2/library/pickle.html) is a fast, efficient way to preserve (or pickle) data structures (*e.g.* dictionaries, lists, tuples, sets...), without having to structure or organize your output file. `Pickle` will know exactly how to serialize (or write) those structures to file. You can un-pickle the data structures using `pickle.load()`. \n",
    "\n",
    "\n",
    "More details regarding `pickle` can be found here-[this reference on Serializing Python Objects](http://www.diveintopython3.net/serializing.html) from Dive Into Python 3.\n",
    "\n",
    "**Run** the cell below to import the `pickle` module. (**shift + enter** or **shift + return**)"
   ]
  },
  {
   "cell_type": "code",
   "execution_count": null,
   "metadata": {
    "collapsed": false
   },
   "outputs": [],
   "source": [
    "try:\n",
    "    import pickle\n",
    "    print(\"Successfully imported pickle!\")\n",
    "except ImportError:\n",
    "    print(\"Could not import pickle\")"
   ]
  },
  {
   "cell_type": "markdown",
   "metadata": {},
   "source": [
    "## Update working directory \n",
    "\n",
    "The [Magic Function](http://ipython.readthedocs.io/en/stable/interactive/tutorial.html#magics-explained) `%cd \"...\"` changes the working directory in the Jupyter Notebook.\n",
    "\n",
    "**Update** the Magic Function `%cd \"...\"` in the cell below to indicate the correct path of the **ud120-projects** directory on your local machine.\n",
    "\n",
    "Then **run** the cell below to load the Enron data!"
   ]
  },
  {
   "cell_type": "code",
   "execution_count": null,
   "metadata": {
    "collapsed": false
   },
   "outputs": [],
   "source": [
    "# Ensure that you write the full path, up to and including \"ud120-projects\"\n",
    "%cd \"C:/Users/Ryan/Desktop/ud120-projects\"\n",
    "\n",
    "try:\n",
    "    enron_data = pickle.load(open(\"final_project/final_project_dataset.pkl\", \"r\")) # May require \"rb\" instead of \"r\"\n",
    "    print(\"Enron dataset loaded succesfully!\")\n",
    "except IOError:\n",
    "    print(\"Enron dataset not loaded\")"
   ]
  },
  {
   "cell_type": "markdown",
   "metadata": {},
   "source": [
    "## Transforming data from Dictionary to DataFrame\n",
    "The variable `enron_data` is a dictionary object. Dictionaries are not displayed as nicely as `pandas` `DataFrame` objects within the Jupyter Notebook environment. Let's convert `enron_data` to a `DataFrame` object. \n",
    "\n",
    "Use either [the method `pandas.DataFrame.from_dict()`](http://pandas.pydata.org/pandas-docs/stable/generated/pandas.DataFrame.from_dict.html) or simply use [the constructor `pandas.DataFrame()`](http://pandas.pydata.org/pandas-docs/stable/generated/pandas.DataFrame.html) either works. \n",
    "\n",
    "**Run** the cell below to:\n",
    "  - import `pandas` and `display`.\n",
    "  - set some display options.\n",
    "  - create a `DataFrame` object for the Enron data.\n",
    "  - display the Enron data."
   ]
  },
  {
   "cell_type": "code",
   "execution_count": null,
   "metadata": {
    "collapsed": false
   },
   "outputs": [],
   "source": [
    "try:\n",
    "    import pandas as pd\n",
    "    print(\"Successfully imported pandas! (Version {})\".format(pd.__version__))\n",
    "    pd.options.display.max_rows = 10\n",
    "except ImportError:\n",
    "    print(\"Could not import pandas!\")\n",
    "\n",
    "try:\n",
    "    from IPython.display import display\n",
    "    print(\"Successfully imported display from IPython.display!\")\n",
    "except ImportError:\n",
    "    print(\"Could not import display from IPython.display\")\n",
    "    \n",
    "enron_df = pd.DataFrame.from_dict(enron_data)\n",
    "display(enron_df)"
   ]
  },
  {
   "cell_type": "markdown",
   "metadata": {},
   "source": [
    "## Stacking, unstacking, and rearranging\n",
    "\n",
    "The data is not formatted in the proper manner. The variables (features) should be in the columns and the unique instances should be in the rows. \n",
    "\n",
    "The following functions can be used to resolve this issue. \n",
    "\n",
    "- [`pandas.DataFrame.stack()`](http://pandas.pydata.org/pandas-docs/stable/generated/pandas.DataFrame.stack.html) \n",
    "- [`pandas.DataFrame.unstack()`](http://pandas.pydata.org/pandas-docs/stable/generated/pandas.DataFrame.unstack.html)\n",
    "\n",
    "First, we need to `stack` the current column indices, moving them to the innermost level of the row index.\n",
    "\n",
    "**Run** the cell below to see the results of calling `enron_df.stack()`\n"
   ]
  },
  {
   "cell_type": "code",
   "execution_count": null,
   "metadata": {
    "collapsed": false
   },
   "outputs": [],
   "source": [
    "enron_df.stack()"
   ]
  },
  {
   "cell_type": "markdown",
   "metadata": {},
   "source": [
    "We see that the result of `enron_df.stack()` is a `Series` object, where the innermost (rightmost) level of the index is the person's name in the Enron data set, while the outermost (leftmost) level of the index is the feature. If we call `unstack()` on the resulting `series` without specifying a level, we'll just revert to the original `DataFrame`.\n",
    "\n",
    "**Run** the cell below to see the result of calling `enron_df.stack().unstack()`\n"
   ]
  },
  {
   "cell_type": "code",
   "execution_count": null,
   "metadata": {
    "collapsed": false
   },
   "outputs": [],
   "source": [
    "enron_df.stack().unstack()"
   ]
  },
  {
   "cell_type": "markdown",
   "metadata": {},
   "source": [
    "We need to `unstack` the *outermost* level of the index, but by default, the function will `unstack` the *innermost* level of the index.\n",
    "\n",
    "**Run** the cell below *once* to correctly `stack` and `unstack` the Enron `DataFrame` to move the instances (names) to rows and features (variables) to columns. "
   ]
  },
  {
   "cell_type": "code",
   "execution_count": null,
   "metadata": {
    "collapsed": false
   },
   "outputs": [],
   "source": [
    "enron_df = enron_df.stack().unstack(0)\n",
    "display(enron_df)"
   ]
  },
  {
   "cell_type": "markdown",
   "metadata": {},
   "source": [
    "# Exercises\n",
    "Use `pandas` to answer questions regarding the Enron dataset. If you're uncertain how to do something, feel free to ask questions, look through [the `pandas` documentation](http://pandas.pydata.org/pandas-docs/stable/api.html), or refer to the code examples above!\n",
    "\n",
    "You can check your solutions to each of these exercises by entering your answer in the corresponding Quiz in the \"Datasets and Questions\" lesson. I put the corresponding quizzes in parenthesis after each exercise, so you know where to go to check your answers."
   ]
  },
  {
   "cell_type": "markdown",
   "metadata": {},
   "source": [
    "Types of Data Quizzes: Questions 1-6 answer options\n",
    "\n",
    "- numerical- numerical values (numbers)\n",
    "- categorical- limited number of discrete values (category)\n",
    "- time series- temporal value (date, timestamp) \n",
    "- text- words\n",
    "- other"
   ]
  },
  {
   "cell_type": "markdown",
   "metadata": {},
   "source": [
    "## Question 1\n",
    "What type of data is salary info? (Quiz: Types of Data 1)\n",
    "\n",
    "\n"
   ]
  },
  {
   "cell_type": "markdown",
   "metadata": {},
   "source": [
    "## Question 2\n",
    "What type of data is job title? (Quiz: Types of Data 2)\n"
   ]
  },
  {
   "cell_type": "markdown",
   "metadata": {},
   "source": [
    "## Question 3\n",
    "What type of data is timestamps on emails? (Quiz: Types of Data 3)\n"
   ]
  },
  {
   "cell_type": "markdown",
   "metadata": {},
   "source": [
    "## Question 4\n",
    "What type of data is contents of emails? (Quiz: Types of Data 4)\n"
   ]
  },
  {
   "cell_type": "markdown",
   "metadata": {},
   "source": [
    "## Question 5\n",
    "What type of data is number of emails sent by a given person? (Quiz: Types of Data 5)\n",
    "\n"
   ]
  },
  {
   "cell_type": "markdown",
   "metadata": {},
   "source": [
    "## Question 6\n",
    "What type of data is to/from fields of emails? (Quiz: Types of Data 6)\n",
    "\n"
   ]
  },
  {
   "cell_type": "markdown",
   "metadata": {},
   "source": [
    "## Question 7\n",
    "How many data points (people) are in the data set? (Quiz: Size of the Enron Dataset)"
   ]
  },
  {
   "cell_type": "code",
   "execution_count": null,
   "metadata": {
    "collapsed": false
   },
   "outputs": [],
   "source": []
  },
  {
   "cell_type": "markdown",
   "metadata": {},
   "source": [
    "## Question 8\n",
    "For each person, how many features are available? (Quiz: Features in the Enron Dataset)"
   ]
  },
  {
   "cell_type": "code",
   "execution_count": null,
   "metadata": {
    "collapsed": false
   },
   "outputs": [],
   "source": []
  },
  {
   "cell_type": "markdown",
   "metadata": {},
   "source": [
    "## Question 9\n",
    "How many Persons of Interest (POIs) are in the dataset? (Quiz: Finding POIs in the Enron Data)"
   ]
  },
  {
   "cell_type": "code",
   "execution_count": null,
   "metadata": {
    "collapsed": false
   },
   "outputs": [],
   "source": []
  },
  {
   "cell_type": "markdown",
   "metadata": {},
   "source": [
    "## Question 10\n",
    "We compiled a list of all POI names (in `final_project/poi_names.txt`) and associated email addresses (in `final_project/poi_email_addresses.py`).\n",
    "\n",
    "How many POI’s were there total? Use the **names** file, not the email addresses, since many folks have more than one address and a few didn’t work for Enron, so we don’t have their emails. (Quiz: How Many POIs Exist?)\n",
    "\n",
    "**Hint:** Open up the `poi_names.txt` file to see the file format:\n",
    "  - the first line is a link to a USA Today article\n",
    "  - the second line is blank\n",
    "  - subsequent lines have the format: `(•) Lastname, Firstname`\n",
    "      - the dot `•` is either \"y\" (for yes) or \"n\" (for no), describing if the emails for that POI are available"
   ]
  },
  {
   "cell_type": "code",
   "execution_count": null,
   "metadata": {
    "collapsed": false,
    "scrolled": true
   },
   "outputs": [],
   "source": []
  },
  {
   "cell_type": "markdown",
   "metadata": {},
   "source": [
    "## Question 11\n",
    "What might be a problem with having some POIs missing from our dataset? (Quiz: Problems with Incomplete Data)\n"
   ]
  },
  {
   "cell_type": "markdown",
   "metadata": {},
   "source": [
    "## Question 12\n",
    "What is the total value of the stock belonging to James Prentice? (Query The Dataset 1)"
   ]
  },
  {
   "cell_type": "code",
   "execution_count": null,
   "metadata": {
    "collapsed": false
   },
   "outputs": [],
   "source": []
  },
  {
   "cell_type": "markdown",
   "metadata": {},
   "source": [
    "## Question 13\n",
    "How many email messages do we have from Wesley Colwell to persons of interest? (Query The Dataset 2)"
   ]
  },
  {
   "cell_type": "code",
   "execution_count": null,
   "metadata": {
    "collapsed": false
   },
   "outputs": [],
   "source": []
  },
  {
   "cell_type": "markdown",
   "metadata": {},
   "source": [
    "## Question 14\n",
    "What's the value of stock options exercised by Jeffrey K Skilling? (Query The Dataset 3)"
   ]
  },
  {
   "cell_type": "code",
   "execution_count": null,
   "metadata": {
    "collapsed": false
   },
   "outputs": [],
   "source": []
  },
  {
   "cell_type": "markdown",
   "metadata": {},
   "source": [
    "**Questions 15-18 can be answered by some basic online research** \n",
    "\n",
    "## Question 15\n",
    "Which of these schemes was Enron **not** involved in? (Quiz: Research the Enron Fraud)\n",
    "\n",
    "- selling assets to shell companies at the end of each month, and buying them back at the beginning of the next month to hide accounting losses\n",
    "- causing electrical grid failures in California\n",
    "- illegally obtained a government report that enabled them to corner the market on frozen concentrated orange juice futures\n",
    "- conspiring to give a Saudi prince expedited American citizenship\n",
    "- a plan in collaboration with Blockbuster movies to stream movies over the internet\n",
    "\n",
    "## Question 16\n",
    "Who was the CEO of Enron during most of the time that fraud was being perpetrated? (Quiz: Enron CEO)\n",
    "\n",
    "## Question 17\n",
    "Who was chairman of the Enron board of directors? (Quiz: Enron Chairman)\n",
    "\n",
    "## Question 18\n",
    "Who was CFO (chief financial officer) of Enron during most of the time that fraud was going on? (Quiz: Enron CFO)"
   ]
  },
  {
   "cell_type": "markdown",
   "metadata": {},
   "source": [
    "## Question 19\n",
    "Of these three individuals (Lay, Skilling and Fastow), who took home the most money (largest value of “total_payments” feature)?(Quiz: Follow The Money)\n",
    "\n",
    "How much money did that person get?"
   ]
  },
  {
   "cell_type": "code",
   "execution_count": null,
   "metadata": {
    "collapsed": false
   },
   "outputs": [],
   "source": []
  },
  {
   "cell_type": "markdown",
   "metadata": {},
   "source": [
    "## Question 20\n",
    "For nearly every person in the dataset, not every feature has a value. How is it denoted when a feature doesn’t have a well-defined value? (Quiz: Unfilled Features)"
   ]
  },
  {
   "cell_type": "code",
   "execution_count": null,
   "metadata": {
    "collapsed": false
   },
   "outputs": [],
   "source": []
  },
  {
   "cell_type": "markdown",
   "metadata": {},
   "source": [
    "## Question 21\n",
    "How many folks in this dataset have a quantified salary? What about a known email address? (Quiz: Dealing with Unfilled Features)"
   ]
  },
  {
   "cell_type": "code",
   "execution_count": null,
   "metadata": {
    "collapsed": false
   },
   "outputs": [],
   "source": []
  },
  {
   "cell_type": "markdown",
   "metadata": {},
   "source": [
    "## More Magic Functions\n",
    "\n",
    "In the Jupyter Notebook `lesson 1`, we introduced our first [Magic Function](http://ipython.readthedocs.io/en/stable/interactive/tutorial.html#magics-explained):\n",
    "\n",
    "`%matplotlib inline`\n",
    "\n",
    "That allowed us to generate plots using `matplotlib.pyplot` that appeared directly within our Jupyter Notebook! Earlier in this notebook, we also introduced the Magic Function:\n",
    "\n",
    "`%cd \"...\"`\n",
    "\n",
    "Replacing the ellipses in the above Magic Function with the path of the **ud120-projects** repo allowed us to change the working directory for this Jupyter Notebook session. Let's learn one last Magic Function:\n",
    "\n",
    "`%load filename.py`\n",
    "\n",
    "This allows us to quickly load python code from the file `filename.py` into the current cell.\n",
    "\n",
    "**Run** the cell below to execute the Magic Function `%load tools/feature_format.py` from the **ud120-projects** repo. What happens?"
   ]
  },
  {
   "cell_type": "code",
   "execution_count": null,
   "metadata": {
    "collapsed": false
   },
   "outputs": [],
   "source": [
    "%load tools/feature_format.py"
   ]
  },
  {
   "cell_type": "markdown",
   "metadata": {},
   "source": [
    "You should see that the Magic Function `%load tools/feature_format.py` copies the contents of `feature_format.py` into the same cell, below the magic command. Additionally, the Magic Function `%load tools/feature_format.py` is now commented out. Note that you've **copied** the contents of `feature_format.py` into the cell with the Magic Function, but you need to run the cell a second time to actually **execute** the code.\n",
    "\n",
    "If you want to try another `%load` Magic Function, **run** the cell below to load the contents of `poi_email_addresses.py` to this Notebook."
   ]
  },
  {
   "cell_type": "code",
   "execution_count": null,
   "metadata": {
    "collapsed": true
   },
   "outputs": [],
   "source": [
    "%load final_project/poi_email_addresses.py"
   ]
  },
  {
   "cell_type": "markdown",
   "metadata": {},
   "source": [
    "A couple last helpful hints about Magic Functions:\n",
    "  - You can learn more about Magic Functions at any time with the Magic Function `%magic`\n",
    "  - You can get the list of available Magic Functions by the Magic Function `%lsmagic`\n",
    "  - You can learn about any Magic Function by typing a question mark after it, *e.g.* `%load?`\n",
    "  \n",
    "**Try it below!**"
   ]
  },
  {
   "cell_type": "code",
   "execution_count": null,
   "metadata": {
    "collapsed": false
   },
   "outputs": [],
   "source": [
    "%magic"
   ]
  },
  {
   "cell_type": "markdown",
   "metadata": {},
   "source": [
    "# Optional Exercises -- Missing POIs\n",
    "As you saw a little while ago, not every POI has an entry in the dataset (e.g. Michael Krautz). That’s because the dataset was created using the financial data you can find in `../final_project/enron61702insiderpay.pdf`, which is missing some POI’s (those absences propagated through to the final dataset). On the other hand, for many of these “missing” POI’s, we do have emails.\n",
    "\n",
    "While it would be straightforward to add these POI’s and their email information to the E+F dataset, and just put “NaN” for their financial information, this could introduce a subtle problem. You will walk through that here.\n",
    "\n",
    "Again, you can check your solutions to each of these exercises by entering your answer in the corresponding Quiz in the \"Datasets and Questions\" lesson. I put the corresponding quizzes in parenthesis after each exercise, so you know where to go to check your answers.\n",
    "\n",
    "## Question 1\n",
    "How many people in the E+F dataset (as it currently exists) have “NaN” for their total payments? What percentage of people in the dataset as a whole is this? (Quiz: Missing POIs 1 (Optional))"
   ]
  },
  {
   "cell_type": "code",
   "execution_count": null,
   "metadata": {
    "collapsed": false
   },
   "outputs": [],
   "source": []
  },
  {
   "cell_type": "markdown",
   "metadata": {},
   "source": [
    "## Question 2\n",
    "How many POIs in the E+F dataset have “NaN” for their total payments? What percentage of POI’s as a whole is this? (Quiz: Missing POIs 2 (Optional))"
   ]
  },
  {
   "cell_type": "code",
   "execution_count": null,
   "metadata": {
    "collapsed": false
   },
   "outputs": [],
   "source": []
  },
  {
   "cell_type": "markdown",
   "metadata": {},
   "source": [
    "## Question 3\n",
    "\n",
    "If a machine learning algorithm were to use total_payments as a feature, would you expect it to associate a “NaN” value with POIs or non-POIs? (Quiz: Missing POIs 3 (Optional))\n",
    "\n"
   ]
  },
  {
   "cell_type": "markdown",
   "metadata": {},
   "source": [
    "## Question 4\n",
    "\n",
    "If you added in, say, 10 more data points which were all POI’s, and put “NaN” for the total payments for those folks, the numbers you just calculated would change.\n",
    "\n",
    "What is the new number of people of the dataset? What is the new number of folks with “NaN” for total payments? (Quiz: Missing POIs 4 (Optional))"
   ]
  },
  {
   "cell_type": "code",
   "execution_count": null,
   "metadata": {
    "collapsed": false
   },
   "outputs": [],
   "source": []
  },
  {
   "cell_type": "markdown",
   "metadata": {},
   "source": [
    "## Question 5\n",
    "\n",
    "What is the new number of POI’s in the dataset? What is the new number of POI’s with NaN for total_payments? (Quiz: Missing POIs 5 (Optional))"
   ]
  },
  {
   "cell_type": "code",
   "execution_count": null,
   "metadata": {
    "collapsed": false
   },
   "outputs": [],
   "source": []
  },
  {
   "cell_type": "markdown",
   "metadata": {},
   "source": [
    "## Question 6\n",
    "\n",
    "Once the new data points are added, do you think a supervised classification algorithm might interpret “NaN” for total_payments as a clue that someone is a POI? (Quiz: Missing POIs 6 (Optional))\n",
    "\n"
   ]
  }
 ],
 "metadata": {
  "kernelspec": {
   "display_name": "Python 2",
   "language": "python",
   "name": "python2"
  },
  "language_info": {
   "codemirror_mode": {
    "name": "ipython",
    "version": 2
   },
   "file_extension": ".py",
   "mimetype": "text/x-python",
   "name": "python",
   "nbconvert_exporter": "python",
   "pygments_lexer": "ipython2",
   "version": "2.7.13"
  }
 },
 "nbformat": 4,
 "nbformat_minor": 0
}
