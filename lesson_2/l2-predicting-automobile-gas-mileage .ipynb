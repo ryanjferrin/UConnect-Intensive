{
 "cells": [
  {
   "cell_type": "markdown",
   "metadata": {},
   "source": [
    "# Connect Intensive - Machine Learning Nanodegree\n",
    "# Lesson 2: Predicting Automobile Gas Mileage \n",
    "\n",
    "## Objectives\n",
    "  - Use [Numpy](https://docs.scipy.org/doc/numpy/reference/routines.statistics.html) to compute statistics  \n",
    "  - Split a dataset into training and testing sets using scikit-learn's [train_test_split](http://scikit-learn.org/stable/modules/generated/sklearn.model_selection.train_test_split.html) \n",
    "  - Build a [decision tree regressor](http://scikit-learn.org/stable/modules/generated/sklearn.tree.DecisionTreeRegressor.html) model using scikit-learn\n",
    "  \n",
    "\n",
    "\n"
   ]
  },
  {
   "cell_type": "markdown",
   "metadata": {},
   "source": [
    "## Background\n",
    "\n",
    "The purpose of this project is to use a decision tree regressor to predict automobile gas mileage. The dataset was obtained from the [UCI Machine Learning Repository](https://archive.ics.uci.edu/ml/datasets/Auto+MPG).\n",
    "\n",
    "\n",
    " **Target variable** \n",
    " - mpg: The vehicle’s gas mileage \n",
    " \n",
    "**Predictor variables**\n",
    " - displacement: The vehicle’s engine displacement\n",
    " - horsepower: The vehicle’s horsepower\n",
    " - weight: The vehicle’s weight\n",
    "\n",
    "\n",
    "\n"
   ]
  },
  {
   "cell_type": "markdown",
   "metadata": {},
   "source": [
    "##  Import the necessary libraries and dataset"
   ]
  },
  {
   "cell_type": "code",
   "execution_count": null,
   "metadata": {
    "collapsed": false
   },
   "outputs": [],
   "source": [
    "import numpy as np\n",
    "import pandas as pd\n",
    "from sklearn.cross_validation import ShuffleSplit\n",
    "\n",
    "car_data = pd.read_csv('car_mpg_data.csv')\n",
    "mpg = car_data['mpg']\n",
    "predictor_variables = car_data.drop('mpg', axis = 1)\n",
    "    \n",
    "print \"Rows: {} Columns: {} \".format(*car_data.shape)"
   ]
  },
  {
   "cell_type": "markdown",
   "metadata": {},
   "source": [
    "##  Use Numpy to learn more about the dataset by calculating basic statistics "
   ]
  },
  {
   "cell_type": "code",
   "execution_count": null,
   "metadata": {
    "collapsed": false,
    "scrolled": true
   },
   "outputs": [],
   "source": [
    "min = None\n",
    "max = None\n",
    "mean = None\n",
    "median = None\n",
    "std = None\n",
    "\n",
    "print \"Minimum MPG:{:,.0f}\".format(min)\n",
    "print \"Maximum MPG:{:,.0f}\".format(max)\n",
    "print \"Mean MPG:{:,.0f}\".format(mean)\n",
    "print \"Median MPG: {:,.0f}\".format(median)\n",
    "print \"MPG standard deviation:{:,.0f}\".format(std)"
   ]
  },
  {
   "cell_type": "markdown",
   "metadata": {},
   "source": [
    "## Import the r2_score function for evaluating the model\n"
   ]
  },
  {
   "cell_type": "code",
   "execution_count": null,
   "metadata": {
    "collapsed": false
   },
   "outputs": [],
   "source": [
    "\n",
    "\n",
    "def performance_metric(y_true, y_predict):\n",
    "    \n",
    "    score = None\n",
    "    \n",
    "    return score"
   ]
  },
  {
   "cell_type": "markdown",
   "metadata": {},
   "source": [
    "## Import the train_test_split function for dividing the dataset into training and testing sets"
   ]
  },
  {
   "cell_type": "code",
   "execution_count": null,
   "metadata": {
    "collapsed": false,
    "scrolled": false
   },
   "outputs": [],
   "source": [
    "\n",
    "\n",
    "X_train, X_test, y_train, y_test = train_test_split(None, None, None, None)\n",
    "\n",
    "print \"X_train: rows:  {},  columns: {}\".format(*X_train.shape)\n",
    "print \"X_test:  rows:  {},  columns: {}\".format(*X_test.shape)\n",
    "print \"y_train: rows:  {},  columns: 1\".format(*y_train.shape)\n",
    "print \"y_test:  rows:  {},  columns: 1\".format(*y_test.shape)"
   ]
  },
  {
   "cell_type": "markdown",
   "metadata": {},
   "source": [
    "## Use the grid search technique to train the decision tree algorithm "
   ]
  },
  {
   "cell_type": "code",
   "execution_count": null,
   "metadata": {
    "collapsed": false
   },
   "outputs": [],
   "source": [
    "# TODO: Import 'make_scorer', 'DecisionTreeRegressor', and 'GridSearchCV'\n",
    "\n",
    "\n",
    "\n",
    "def fit_model(X, y):\n",
    "    \n",
    "    \n",
    "    cross_validation_sets = ShuffleSplit(X.shape[0], n_iter = 5, test_size = 0.25, random_state = 1)\n",
    "\n",
    "    reg_model = None\n",
    "\n",
    "    max_depth = None\n",
    "   \n",
    "    scorer = None\n",
    "    \n",
    "    \n",
    "\n",
    "    \n",
    "    grid = None\n",
    "\n",
    "    grid = None\n",
    "  \n",
    "    return grid.best_estimator_"
   ]
  },
  {
   "cell_type": "markdown",
   "metadata": {},
   "source": [
    "## Fit the model to the training data"
   ]
  },
  {
   "cell_type": "code",
   "execution_count": null,
   "metadata": {
    "collapsed": false,
    "scrolled": true
   },
   "outputs": [],
   "source": [
    "reg = fit_model(X_train, y_train)"
   ]
  },
  {
   "cell_type": "markdown",
   "metadata": {},
   "source": [
    "## Make predictions using the model"
   ]
  },
  {
   "cell_type": "code",
   "execution_count": null,
   "metadata": {
    "collapsed": false
   },
   "outputs": [],
   "source": [
    "car_specs = [[, , ], [, , ]] \n",
    "                               \n",
    "for i, mpg in enumerate(reg.predict(car_specs)):\n",
    "    print \"Car {}'s predicted MPG: {:,.0f}\".format(i+1, mpg)"
   ]
  }
 ],
 "metadata": {
  "anaconda-cloud": {},
  "kernelspec": {
   "display_name": "Python 2",
   "language": "python",
   "name": "python2"
  },
  "language_info": {
   "codemirror_mode": {
    "name": "ipython",
    "version": 2
   },
   "file_extension": ".py",
   "mimetype": "text/x-python",
   "name": "python",
   "nbconvert_exporter": "python",
   "pygments_lexer": "ipython2",
   "version": "2.7.13"
  }
 },
 "nbformat": 4,
 "nbformat_minor": 0
}
