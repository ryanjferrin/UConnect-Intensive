{
 "cells": [
  {
   "cell_type": "markdown",
   "metadata": {},
   "source": [
    "# Connect Intensive - Machine Learning Nanodegree\n",
    "# Lesson 2: Predicting Automobile Gas Mileage \n",
    "\n",
    "## Objectives\n",
    "  - Use [Numpy](https://docs.scipy.org/doc/numpy/reference/routines.statistics.html) to compute statistics  \n",
    "  - Split a dataset into training and testing sets using scikit-learn's [train_test_split](http://scikit-learn.org/stable/modules/generated/sklearn.model_selection.train_test_split.html) \n",
    "  - Build a [decision tree regressor](http://scikit-learn.org/stable/modules/generated/sklearn.tree.DecisionTreeRegressor.html) model using scikit-learn\n",
    "  - Use [GridSearchCV](http://scikit-learn.org/stable/modules/generated/sklearn.model_selection.GridSearchCV.html) to perform an exhaustive search over specified parameter values for an estimator\n",
    "  \n",
    "\n",
    "\n"
   ]
  },
  {
   "cell_type": "markdown",
   "metadata": {},
   "source": [
    "## Background\n",
    "\n",
    "The purpose of this project is to use a decision tree regressor to predict automobile gas mileage. The dataset was obtained from the [UCI Machine Learning Repository](https://archive.ics.uci.edu/ml/datasets/Auto+MPG).\n",
    "\n",
    "\n",
    " **Target variable** \n",
    " - mpg: The vehicle’s gas mileage \n",
    " \n",
    "**Predictor variables**\n",
    " - displacement: The vehicle’s engine displacement\n",
    " - horsepower: The vehicle’s horsepower\n",
    " - weight: The vehicle’s weight\n",
    "\n",
    "\n",
    "\n"
   ]
  },
  {
   "cell_type": "markdown",
   "metadata": {},
   "source": [
    "##  Import the necessary libraries and dataset"
   ]
  },
  {
   "cell_type": "code",
   "execution_count": 1,
   "metadata": {
    "collapsed": false
   },
   "outputs": [
    {
     "name": "stdout",
     "output_type": "stream",
     "text": [
      "Rows: 392 Columns: 4 \n"
     ]
    },
    {
     "name": "stderr",
     "output_type": "stream",
     "text": [
      "C:\\Users\\Ryan\\Anaconda2\\lib\\site-packages\\sklearn\\cross_validation.py:44: DeprecationWarning: This module was deprecated in version 0.18 in favor of the model_selection module into which all the refactored classes and functions are moved. Also note that the interface of the new CV iterators are different from that of this module. This module will be removed in 0.20.\n",
      "  \"This module will be removed in 0.20.\", DeprecationWarning)\n"
     ]
    }
   ],
   "source": [
    "import numpy as np\n",
    "import pandas as pd\n",
    "from sklearn.cross_validation import ShuffleSplit\n",
    "# If you receive a deprecation warning, change \"cross_validation\" to \"model_selection\" in ShuffleSplit import\n",
    "\n",
    "car_data = pd.read_csv('car_mpg_data.csv')\n",
    "mpg = car_data['mpg']\n",
    "predictor_variables = car_data.drop('mpg', axis = 1)\n",
    "    \n",
    "print \"Rows: {} Columns: {} \".format(*car_data.shape)"
   ]
  },
  {
   "cell_type": "markdown",
   "metadata": {},
   "source": [
    "##  Use Numpy to learn more about the dataset by calculating basic statistics "
   ]
  },
  {
   "cell_type": "code",
   "execution_count": 2,
   "metadata": {
    "collapsed": false,
    "scrolled": true
   },
   "outputs": [
    {
     "name": "stdout",
     "output_type": "stream",
     "text": [
      "Minimum MPG:9\n",
      "Maximum MPG:47\n",
      "Mean MPG:23\n",
      "Median MPG: 23\n",
      "MPG standard deviation:8\n"
     ]
    }
   ],
   "source": [
    "mpg_min = np.min(mpg)\n",
    "mpg_max = np.max(mpg)\n",
    "mean = np.mean(mpg)\n",
    "median = np.median(mpg)\n",
    "std = np.std(mpg)\n",
    "\n",
    "print \"Minimum MPG:{:,.0f}\".format(mpg_min)\n",
    "print \"Maximum MPG:{:,.0f}\".format(mpg_max)\n",
    "print \"Mean MPG:{:,.0f}\".format(mean)\n",
    "print \"Median MPG: {:,.0f}\".format(median)\n",
    "print \"MPG standard deviation:{:,.0f}\".format(std)"
   ]
  },
  {
   "cell_type": "markdown",
   "metadata": {},
   "source": [
    "## Import the r2_score function for evaluating the model\n"
   ]
  },
  {
   "cell_type": "code",
   "execution_count": 3,
   "metadata": {
    "collapsed": false
   },
   "outputs": [],
   "source": [
    "from sklearn.metrics import r2_score\n",
    "\n",
    "def performance_metric(y_true, y_predict):\n",
    "    \n",
    "    score = r2_score(y_true,y_predict)\n",
    "    \n",
    "    return score"
   ]
  },
  {
   "cell_type": "markdown",
   "metadata": {},
   "source": [
    "## Import the train_test_split function for dividing the dataset into training and testing sets"
   ]
  },
  {
   "cell_type": "code",
   "execution_count": 4,
   "metadata": {
    "collapsed": false,
    "scrolled": false
   },
   "outputs": [
    {
     "name": "stdout",
     "output_type": "stream",
     "text": [
      "Predictor variables: displacement, horsepower, weight\n",
      "\n",
      "X_train: rows:  352,  columns: 3\n",
      "X_test:  rows:  40,  columns: 3\n",
      "\n",
      "---------------------------------------------------------\n",
      "\n",
      "Target variable: mpg\n",
      "\n",
      "y_train: rows:  352,  columns: 1\n",
      "y_test:  rows:  40,  columns: 1\n"
     ]
    }
   ],
   "source": [
    "from sklearn.cross_validation import train_test_split \n",
    "\n",
    "X_train, X_test, y_train, y_test = train_test_split(predictor_variables, mpg, test_size = .1, random_state = 1)\n",
    "\n",
    "\n",
    "print \"Predictor variables: displacement, horsepower, weight\\n\"\n",
    "print \"X_train: rows:  {},  columns: {}\".format(*X_train.shape)\n",
    "print \"X_test:  rows:  {},  columns: {}\\n\".format(*X_test.shape)\n",
    "print \"---------------------------------------------------------\\n\"\n",
    "print \"Target variable: mpg\\n\"\n",
    "print \"y_train: rows:  {},  columns: 1\".format(*y_train.shape)\n",
    "print \"y_test:  rows:  {},  columns: 1\".format(*y_test.shape)"
   ]
  },
  {
   "cell_type": "markdown",
   "metadata": {},
   "source": [
    "## Use the grid search technique to train the decision tree algorithm "
   ]
  },
  {
   "cell_type": "code",
   "execution_count": 5,
   "metadata": {
    "collapsed": false
   },
   "outputs": [
    {
     "name": "stderr",
     "output_type": "stream",
     "text": [
      "C:\\Users\\Ryan\\Anaconda2\\lib\\site-packages\\sklearn\\grid_search.py:43: DeprecationWarning: This module was deprecated in version 0.18 in favor of the model_selection module into which all the refactored classes and functions are moved. This module will be removed in 0.20.\n",
      "  DeprecationWarning)\n"
     ]
    }
   ],
   "source": [
    "# TODO: Import 'make_scorer', 'DecisionTreeRegressor', and 'GridSearchCV'\n",
    "\n",
    "from sklearn.tree import DecisionTreeRegressor\n",
    "from sklearn.metrics import make_scorer\n",
    "from sklearn.grid_search import GridSearchCV\n",
    "# If you receive a deprecation warning, change \"grid_search\" to \"model_selection\" in GridSearchCV import\n",
    "\n",
    "def fit_model(X, y):\n",
    "    \n",
    "    \n",
    "    cross_validation_sets = ShuffleSplit(X.shape[0], n_iter = 5, test_size = 0.25, random_state = 1)\n",
    "\n",
    "    reg_model = DecisionTreeRegressor()\n",
    "\n",
    "    max_depth = {'max_depth':range(1,11)}\n",
    "   \n",
    "    scorer = make_scorer(performance_metric, greater_is_better = True)\n",
    "    \n",
    "    \n",
    "\n",
    "    \n",
    "    grid = GridSearchCV(estimator = reg_model, param_grid = max_depth, scoring = scorer, cv = cross_validation_sets)\n",
    "\n",
    "    grid = grid.fit(X, y)\n",
    "  \n",
    "    return grid.best_estimator_"
   ]
  },
  {
   "cell_type": "markdown",
   "metadata": {},
   "source": [
    "## Fit the model to the training data"
   ]
  },
  {
   "cell_type": "code",
   "execution_count": 6,
   "metadata": {
    "collapsed": false,
    "scrolled": true
   },
   "outputs": [],
   "source": [
    "reg = fit_model(X_train, y_train)"
   ]
  },
  {
   "cell_type": "markdown",
   "metadata": {},
   "source": [
    "## Make predictions using the model"
   ]
  },
  {
   "cell_type": "code",
   "execution_count": 7,
   "metadata": {
    "collapsed": false
   },
   "outputs": [
    {
     "name": "stdout",
     "output_type": "stream",
     "text": [
      "Car 1's predicted MPG: 29\n",
      "Car 2's predicted MPG: 15\n"
     ]
    }
   ],
   "source": [
    "car_specs = [[100, 100, 2000 ], [400, 200, 4000]] \n",
    "                               \n",
    "for i, mpg in enumerate(reg.predict(car_specs)):\n",
    "    print \"Car {}'s predicted MPG: {:,.0f}\".format(i+1, mpg)"
   ]
  }
 ],
 "metadata": {
  "anaconda-cloud": {},
  "kernelspec": {
   "display_name": "Python 2",
   "language": "python",
   "name": "python2"
  },
  "language_info": {
   "codemirror_mode": {
    "name": "ipython",
    "version": 2
   },
   "file_extension": ".py",
   "mimetype": "text/x-python",
   "name": "python",
   "nbconvert_exporter": "python",
   "pygments_lexer": "ipython2",
   "version": "2.7.13"
  }
 },
 "nbformat": 4,
 "nbformat_minor": 0
}
